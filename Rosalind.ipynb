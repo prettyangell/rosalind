{
  "nbformat": 4,
  "nbformat_minor": 0,
  "metadata": {
    "colab": {
      "provenance": [],
      "collapsed_sections": [
        "hZaNVqp9jJ5v",
        "qoJtu55Fj-SH",
        "ojW0FelJknDH",
        "5ydRq7jZlk71"
      ],
      "toc_visible": true,
      "authorship_tag": "ABX9TyOMvq0ahEMJrO99i1cRbaft",
      "include_colab_link": true
    },
    "kernelspec": {
      "name": "python3",
      "display_name": "Python 3"
    },
    "language_info": {
      "name": "python"
    }
  },
  "cells": [
    {
      "cell_type": "markdown",
      "metadata": {
        "id": "view-in-github",
        "colab_type": "text"
      },
      "source": [
        "<a href=\"https://colab.research.google.com/github/prettyangell/rosalind/blob/main/Rosalind.ipynb\" target=\"_parent\"><img src=\"https://colab.research.google.com/assets/colab-badge.svg\" alt=\"Open In Colab\"/></a>"
      ]
    },
    {
      "cell_type": "markdown",
      "source": [
        "# 1-Counting DNA Nucleotides"
      ],
      "metadata": {
        "id": "hZaNVqp9jJ5v"
      }
    },
    {
      "cell_type": "code",
      "execution_count": null,
      "metadata": {
        "colab": {
          "base_uri": "https://localhost:8080/"
        },
        "id": "rVysmdjShmyP",
        "outputId": "6e268082-6f61-49a1-ba0a-4380a03849ca"
      },
      "outputs": [
        {
          "output_type": "execute_result",
          "data": {
            "text/plain": [
              "{'A': 253, 'C': 236, 'G': 266, 'T': 230}"
            ]
          },
          "metadata": {},
          "execution_count": 1
        }
      ],
      "source": [
        "DNA=\"AGATTTTAACAGAGGATAAATGGAGAGCGTGGGTTAGATTGGAGCTTTGCAGGCGCAGAAACCGTAAGGGGGCTAATCTTGCATGACTCTGCGAATCGAGTGGAGGCCGGCCATATACGATGACAACGGGGTCCCCCCGGAGGGATGTGATTGCGCTCGATCTGTACCCTACAGGTGTATCCCAAGTGCGATTGGCATTCCTCAATGTCATTTACTAGCTATACGGCATCCACTGCCACGATACTTATGTCGGTAAAACTAATGGGTAATTACTCCTATTGTCGCAGGTTGTCTTTGCTCTGGCGGGGGACCTCAAATCCTGAGCAGTGCGGGTACTCGGCCATTGCGTGGGGTCCTTTACGACCGGATGTAGCCTAAGATGTGTCACGCAGGTAGGTTCAGCAGCCCCCGTGTCGGGAGGTTGATCATATTACTTTTCAATATTGACAGTGTAATGCAAAGCTCTAGTATGGCGTAAAGCACCAGCGTCCAGCCGCGTTAAAACCAAACATCAGTAGTGGGGGCACAAACAGTTCATGAAGGTAACCGTGGCTCAACGGACTGCGGCCGATCGTATTCCTTCACTGGATGCAGGGCGAACGTCCTCGATCAACATGCACGACATTATTCAACGCAAACACCTGCAGCCTAGTGTCGACTGGGTGATTTAGCTGATCTGCTGGTTGCGCGACCATCTACTGGCGTTGGATGCATATCCCCTCTAAGACAAGAGGCTTATTATGCACCTGTTTGCCACTCTCACAGATAGCTTACTCTGGCAAGTTCCTAGCGGCCAGACGAAGCATACGGGACGCCGTGCAGGAAAAGATAAGGGTCATCCGGAATGCCTTTCGCCAGCCGATATGCAGCAACCAGCACGAGCACATGGGAAGAATATGATATAGCGAATAAATTAGACGTTAAGTGGCGACACATCGTGACGCGCGTAAGAGCTGAAACGAAACCCGTAGTTCACTGGAATGTC\"\n",
        "nuc={\n",
        "    'A':0,\n",
        "    'C':0,\n",
        "    'G':0,\n",
        "    'T':0\n",
        "}\n",
        "for char in DNA:\n",
        "    nuc[char]+=1\n",
        "\n",
        "nuc"
      ]
    },
    {
      "cell_type": "markdown",
      "source": [
        "# 2-Transcribing DNA into RNA"
      ],
      "metadata": {
        "id": "qoJtu55Fj-SH"
      }
    },
    {
      "cell_type": "code",
      "source": [
        "DNA='GGGGTGTCGATGATATAGTTGACTGTACATTAATCAGTTAAGCATTGTGACCACTAGGAAGACCCCCCTGCGCAAAGTGGTCCGGGGGCTCCTGATACTTCTGGGCCCTATTGAGAGCGGTGAAAGGTGCCCTAGAAAGTATCCACGGTTTTGCACGTCAGGGCGAGCGCCTAACACGACTTTCGCACCGGCTACAACCACCCTCGTGAAGAGCGATGGTTACGTCGGTCTACTTTCCTCTAGCTGCTGATCCATGGCGTGCCCGAATATGGGAGCACTTGTCCTGGCAGCTCGGTGGACAAGCTGATGCACGAGTGCTGAACCACTGGGCCGGCACAAGGGAGGATGCCAAGACTGGACAACTCGAGAGCCTACAGCCTGTTGCACGGATATGGTGGGGGAGCTACCTCGTAGACCTTTTGATTAGCTAGCTGCTACGGGGCTCTCAAGGTGGGCTAGGCGGTTAGCCCAGTGGGCCGCCCTAAATAGACCATGCCCCGCACTGCCCCGGTCAAGAGTCACGAACATCCGACCTAATATGCGACAACTTCATGCTGGTTATGCGTTGTAGCGTTTGTCTAATTGTTCGAATACTCTACCTAATCCACAAAGCAGCTGTCGAAACGGCCATTCTGCACTGTGCTTCAGGTGGTCAGACACGATATACTGTCACCCGATGCTTAGTGCAGCGGTACGTTTCTCCTCGTAAGGTGCGAGAAGGTGCCCTAGTTGGGCCTAATCTCGACTACGGTAATCTCTAGTTGCCGGTCGGTAACATTATGTTACGGATGGATACCCTGGTTGCATTCCCTGGAGTCCCTATCTAGCAATGAAGGCGGTTCATGGTTAAGCAGCCGCACCGCGGGGTTGGACGGCACATAATTAAGTTGAGAGCAAAAGTCCGTACTCGTAATACCGCTATTCTTAATCAAATTGCTGTTCC'\n",
        "DNA.replace('T','U')"
      ],
      "metadata": {
        "colab": {
          "base_uri": "https://localhost:8080/",
          "height": 163
        },
        "id": "vQO8o_cpkEQf",
        "outputId": "fe909b9a-bd14-42bf-dccb-3764215f2123"
      },
      "execution_count": null,
      "outputs": [
        {
          "output_type": "execute_result",
          "data": {
            "text/plain": [
              "'GGGGUGUCGAUGAUAUAGUUGACUGUACAUUAAUCAGUUAAGCAUUGUGACCACUAGGAAGACCCCCCUGCGCAAAGUGGUCCGGGGGCUCCUGAUACUUCUGGGCCCUAUUGAGAGCGGUGAAAGGUGCCCUAGAAAGUAUCCACGGUUUUGCACGUCAGGGCGAGCGCCUAACACGACUUUCGCACCGGCUACAACCACCCUCGUGAAGAGCGAUGGUUACGUCGGUCUACUUUCCUCUAGCUGCUGAUCCAUGGCGUGCCCGAAUAUGGGAGCACUUGUCCUGGCAGCUCGGUGGACAAGCUGAUGCACGAGUGCUGAACCACUGGGCCGGCACAAGGGAGGAUGCCAAGACUGGACAACUCGAGAGCCUACAGCCUGUUGCACGGAUAUGGUGGGGGAGCUACCUCGUAGACCUUUUGAUUAGCUAGCUGCUACGGGGCUCUCAAGGUGGGCUAGGCGGUUAGCCCAGUGGGCCGCCCUAAAUAGACCAUGCCCCGCACUGCCCCGGUCAAGAGUCACGAACAUCCGACCUAAUAUGCGACAACUUCAUGCUGGUUAUGCGUUGUAGCGUUUGUCUAAUUGUUCGAAUACUCUACCUAAUCCACAAAGCAGCUGUCGAAACGGCCAUUCUGCACUGUGCUUCAGGUGGUCAGACACGAUAUACUGUCACCCGAUGCUUAGUGCAGCGGUACGUUUCUCCUCGUAAGGUGCGAGAAGGUGCCCUAGUUGGGCCUAAUCUCGACUACGGUAAUCUCUAGUUGCCGGUCGGUAACAUUAUGUUACGGAUGGAUACCCUGGUUGCAUUCCCUGGAGUCCCUAUCUAGCAAUGAAGGCGGUUCAUGGUUAAGCAGCCGCACCGCGGGGUUGGACGGCACAUAAUUAAGUUGAGAGCAAAAGUCCGUACUCGUAAUACCGCUAUUCUUAAUCAAAUUGCUGUUCC'"
            ],
            "application/vnd.google.colaboratory.intrinsic+json": {
              "type": "string"
            }
          },
          "metadata": {},
          "execution_count": 5
        }
      ]
    },
    {
      "cell_type": "markdown",
      "source": [
        "# 3-Complementing a Strand of DNA"
      ],
      "metadata": {
        "id": "ojW0FelJknDH"
      }
    },
    {
      "cell_type": "code",
      "source": [
        "dna = \"AAAACCCGGT\"\n",
        "comp_dna = dna.replace('A', 't').replace('T', 'a').replace('C', 'g').replace('G', 'c').upper()[::-1]\n",
        "print(comp_dna)"
      ],
      "metadata": {
        "colab": {
          "base_uri": "https://localhost:8080/"
        },
        "id": "6pBH7EW7k77g",
        "outputId": "92a13aae-eda8-47bb-fc85-cff6ccdf644e"
      },
      "execution_count": null,
      "outputs": [
        {
          "output_type": "stream",
          "name": "stdout",
          "text": [
            "ACCGGGTTTT\n"
          ]
        }
      ]
    },
    {
      "cell_type": "markdown",
      "source": [
        "# 4-Rabbits and Recurrence Relations"
      ],
      "metadata": {
        "id": "5ydRq7jZlk71"
      }
    },
    {
      "cell_type": "code",
      "source": [
        "def rabbit_pairs(n, k):\n",
        "    if n == 0:\n",
        "        return 0\n",
        "    if n == 1:\n",
        "        return 1\n",
        "\n",
        "    dp = [0] * (n + 1)\n",
        "    dp[1] = 1\n",
        "    dp[2] = 1\n",
        "\n",
        "    for i in range(3, n + 1):\n",
        "        dp[i] = dp[i - 1] + k * dp[i - 2]\n",
        "\n",
        "    return dp[n]"
      ],
      "metadata": {
        "id": "PukEAwtylzZj"
      },
      "execution_count": null,
      "outputs": []
    },
    {
      "cell_type": "code",
      "source": [
        "print(rabbit_pairs(29,5))"
      ],
      "metadata": {
        "colab": {
          "base_uri": "https://localhost:8080/"
        },
        "id": "lonjX_IPl3GA",
        "outputId": "bb9ac681-7515-4c35-c332-382cb993aa24"
      },
      "execution_count": null,
      "outputs": [
        {
          "output_type": "stream",
          "name": "stdout",
          "text": [
            "1850229480761\n"
          ]
        }
      ]
    },
    {
      "cell_type": "markdown",
      "source": [
        "# 5-Computing GC Content"
      ],
      "metadata": {
        "id": "4xGnQBSVnwiA"
      }
    },
    {
      "cell_type": "code",
      "source": [
        "from google.colab import files\n",
        "!pip install biopython\n",
        "from Bio import SeqIO"
      ],
      "metadata": {
        "colab": {
          "base_uri": "https://localhost:8080/"
        },
        "id": "H9w6TjZhn6uX",
        "outputId": "58352431-ded7-4b25-d478-71cad4440337"
      },
      "execution_count": null,
      "outputs": [
        {
          "output_type": "stream",
          "name": "stdout",
          "text": [
            "Collecting biopython\n",
            "  Downloading biopython-1.84-cp310-cp310-manylinux_2_17_x86_64.manylinux2014_x86_64.whl.metadata (12 kB)\n",
            "Requirement already satisfied: numpy in /usr/local/lib/python3.10/dist-packages (from biopython) (1.26.4)\n",
            "Downloading biopython-1.84-cp310-cp310-manylinux_2_17_x86_64.manylinux2014_x86_64.whl (3.2 MB)\n",
            "\u001b[2K   \u001b[90m━━━━━━━━━━━━━━━━━━━━━━━━━━━━━━━━━━━━━━━━\u001b[0m \u001b[32m3.2/3.2 MB\u001b[0m \u001b[31m23.1 MB/s\u001b[0m eta \u001b[36m0:00:00\u001b[0m\n",
            "\u001b[?25hInstalling collected packages: biopython\n",
            "Successfully installed biopython-1.84\n"
          ]
        }
      ]
    },
    {
      "cell_type": "code",
      "source": [
        "def gc_content(dna):\n",
        "  return ((dna.count(\"C\")+dna.count(\"G\"))/len(dna))*100\n",
        "\n",
        "def highest_gc_content(file):\n",
        "  max_content=0\n",
        "  for seq_record in SeqIO.parse(file, \"fasta\"):\n",
        "    if gc_content(seq_record.seq)>max_content:\n",
        "      max_content=gc_content(seq_record.seq)\n",
        "      max=seq_record.id\n",
        "  return max,max_content\n"
      ],
      "metadata": {
        "id": "QriM06AUnzF5"
      },
      "execution_count": null,
      "outputs": []
    },
    {
      "cell_type": "code",
      "source": [
        "print(highest_gc_content(\"rosalind_gc (1).txt\"))"
      ],
      "metadata": {
        "colab": {
          "base_uri": "https://localhost:8080/"
        },
        "id": "yCNqL8Dtrsl4",
        "outputId": "16a12af3-7de8-4a40-bf8e-cc3a1320c467"
      },
      "execution_count": null,
      "outputs": [
        {
          "output_type": "stream",
          "name": "stdout",
          "text": [
            "('Rosalind_6706', 53.93794749403341)\n"
          ]
        }
      ]
    },
    {
      "cell_type": "markdown",
      "source": [
        "# 6-Counting Point Mutations"
      ],
      "metadata": {
        "id": "9Ul2u7YAtnTX"
      }
    },
    {
      "cell_type": "code",
      "source": [
        "s,t='GAGCCTACTAACGGGAT','CATCGTAATGACGGCCT'"
      ],
      "metadata": {
        "id": "m_D8JaVVt-Gj"
      },
      "execution_count": null,
      "outputs": []
    },
    {
      "cell_type": "code",
      "source": [
        "distance = 0\n",
        "for i in range(len(s)):\n",
        "  if s[i] != t[i]:\n",
        "    distance+=1\n",
        "distance"
      ],
      "metadata": {
        "colab": {
          "base_uri": "https://localhost:8080/"
        },
        "id": "HLygeXvrt9c9",
        "outputId": "f47e6a1a-0bb9-41d6-f4c9-2b97960f69a3"
      },
      "execution_count": null,
      "outputs": [
        {
          "output_type": "execute_result",
          "data": {
            "text/plain": [
              "7"
            ]
          },
          "metadata": {},
          "execution_count": 18
        }
      ]
    },
    {
      "cell_type": "markdown",
      "source": [
        "# 7-Mendel's First Law"
      ],
      "metadata": {
        "id": "2hmFSLStuFAQ"
      }
    },
    {
      "cell_type": "code",
      "source": [
        "def dominant_allele_probability(k, m, n):\n",
        "    total = k + m + n\n",
        "    total_combinations = total * (total - 1)\n",
        "    prob_dominant = (\n",
        "        k * (k - 1) +\n",
        "        2 * k * m +\n",
        "        2 * k * n +\n",
        "        m * (m - 1) * 0.75 +\n",
        "        2 * m * n * 0.5\n",
        "    )\n",
        "    return prob_dominant / total_combinations\n"
      ],
      "metadata": {
        "id": "dxV4_eL8uJzS"
      },
      "execution_count": null,
      "outputs": []
    },
    {
      "cell_type": "code",
      "source": [
        "k = 27\n",
        "m = 27\n",
        "n = 28\n",
        "print(dominant_allele_probability(k, m, n))"
      ],
      "metadata": {
        "colab": {
          "base_uri": "https://localhost:8080/"
        },
        "id": "n9rJv_po5dzV",
        "outputId": "c5c85b7d-fde6-480f-ca82-767796fbe606"
      },
      "execution_count": null,
      "outputs": [
        {
          "output_type": "stream",
          "name": "stdout",
          "text": [
            "0.7459349593495935\n"
          ]
        }
      ]
    },
    {
      "cell_type": "markdown",
      "source": [
        "# 8-Translating RNA into Protein"
      ],
      "metadata": {
        "id": "VBYrQGrO52f_"
      }
    },
    {
      "cell_type": "code",
      "source": [
        "codon_dict = {\n",
        "    \"UUU\": \"F\", \"CUU\": \"L\", \"AUU\": \"I\", \"GUU\": \"V\",\n",
        "    \"UUC\": \"F\", \"CUC\": \"L\", \"AUC\": \"I\", \"GUC\": \"V\",\n",
        "    \"UUA\": \"L\", \"CUA\": \"L\", \"AUA\": \"I\", \"GUA\": \"V\",\n",
        "    \"UUG\": \"L\", \"CUG\": \"L\", \"AUG\": \"M\", \"GUG\": \"V\",\n",
        "    \"UCU\": \"S\", \"CCU\": \"P\", \"ACU\": \"T\", \"GCU\": \"A\",\n",
        "    \"UCC\": \"S\", \"CCC\": \"P\", \"ACC\": \"T\", \"GCC\": \"A\",\n",
        "    \"UCA\": \"S\", \"CCA\": \"P\", \"ACA\": \"T\", \"GCA\": \"A\",\n",
        "    \"UCG\": \"S\", \"CCG\": \"P\", \"ACG\": \"T\", \"GCG\": \"A\",\n",
        "    \"UAU\": \"Y\", \"CAU\": \"H\", \"AAU\": \"N\", \"GAU\": \"D\",\n",
        "    \"UAC\": \"Y\", \"CAC\": \"H\", \"AAC\": \"N\", \"GAC\": \"D\",\n",
        "    \"UAA\": \"Stop\", \"CAA\": \"Q\", \"AAA\": \"K\", \"GAA\": \"E\",\n",
        "    \"UAG\": \"Stop\", \"CAG\": \"Q\", \"AAG\": \"K\", \"GAG\": \"E\",\n",
        "    \"UGU\": \"C\", \"CGU\": \"R\", \"AGU\": \"S\", \"GGU\": \"G\",\n",
        "    \"UGC\": \"C\", \"CGC\": \"R\", \"AGC\": \"S\", \"GGC\": \"G\",\n",
        "    \"UGA\": \"Stop\", \"CGA\": \"R\", \"AGA\": \"R\", \"GGA\": \"G\",\n",
        "    \"UGG\": \"W\", \"CGG\": \"R\", \"AGG\": \"R\", \"GGG\": \"G\"\n",
        "}\n"
      ],
      "metadata": {
        "id": "qpvKSo0y54_9"
      },
      "execution_count": null,
      "outputs": []
    },
    {
      "cell_type": "code",
      "source": [
        "rna_seq=\"AUGUCUAAGGACUUUUGGAUCUGGCAUAGGAACUUCCAAUUAGUACGUAACACGCAUCGAGAUCACAGGUUCAUUCUCGACGGCGAUACGCCUCCUCUGCCCGCGUGUGAGAAACAAUUCAUACACUCGCCUCCCCUUAGGGCUCGCGCGGAUAGGGUCCGAAUAUCCAGCUCCCAGAUUGUAGUACUGGAUUUAUCCAAAAUCGGCGGCCCCACUCUCGUACUCGGUGCCCCUAUGGGCCGCGAGCUCCUCAAAUCACAUGAUACAAACGUGUACGAAGUCGCGGAUAUAAGGAACCCACAAACACAAAUGAGACUCUUGUCCAAGAUGCCCAUGCGAUCUGGAGGACUUACUGGGUCAACUUGCAUCCACAUACUCAGCCUAUAUAUAACAGGCCAUCAUGCGAGUCGCAGGAGUUGGGGUACAGAGCGAAUUAGACCGGAGUCCAGUAAAACAAGACGCCGCCUAGGUAGCAUCUGGUCGCCACCAAACCGGCUUGCGUGGACGACGUUGAGGGCCGCUGUAGCUAAUAUAUACACACCAGAUCGCCUCAGUGGACCACCGACAGUCCGUCCUGAUCAGCUUGCGGACUACGUCAAAGAGGUACCGCACGGGGGAAGCAUCGACAGGCCGGCCGUAGUGCCGAGCUUUGCUUCUCUAGCCGGGAAAGUCGCGGUGGGUGACCAGCAGCUACGUUCCGACCCCAUGCCGCCAAAGGAAAUGAUUGGCCAUUUAGGCUACAAGACUGUGCAAGAUGUUAGUAAUGGGGACACUCCUAUUCGUCGAAGCCAGCCGAGCGUAGGCAUGCAUAUGGUACAAGUGCAUCGCUCCAUCACUGUAUGCCGUGACGAGCUAAACAUGUUCCCUAUACAUUCGUUGUUGGGCUCUGCCUGGGCCUUUGAUAUUUUACUUAAACAACUCUAUCUACCCUCCGCACACCUCCCGCAGCAUGCCCUGCCCGGGAUGACUGGGAACACGCGACGAAACCAUCCACGUAUCUUAAAGUUAUAUCUACAAACGAGCGUGAAGGCAAAAUUGGUCGCCUUGAUAGCUUCGACAUUGGCGACAUGGCUCUGUGUGAAGUCGCGUGGCUCUCGGUCGGUAAUACGUAAGACCAAGAAUGUCGACGAAAUCGUGUGGGUAAGUCUUCUUAGGCGUCGCCAAUUUAUCGCAAACCUUAGGAGUAUUAGACAGUCGCACCUACUGUUUUGUAUUGCAUUACAGCGUGUCCCGUCUGACCAGUCUGUCACCUCGAAUACAAGUGUCUCCAGAUCAGCCUCACGUUGCGACUGGGAAUACGAUUUUGUAGUGGAGGCUAGGCUAGCUCGCUUCCUCGCGUCUUGCACACAUGCCAAUUUUGAUAACAGCCGUUUGAGACGCGACGAAUAUGUGAGCACUGUGUACUCAAAUCUCCUGAAACCUGCGAGUUACUGGCAAAACGAGACGCUGCUAACCUUGCAGUCACGCCAAUAUAAGGCACGACAAUUUGCGCCCCCUUCGGCAUGUUACAAGCUCGUCUACAUUUCUGCAUACCAGUCACUCACCGACAACAAUGGCGGUUCUGCUCACCUUGGUUCCUUUGGACGCAUACAGACCUCUAUCCUUAAAAUGAAGUCAGUCGGGACGCAGAGAUUAGGUGAAGCUGGCUGUUUUCAAGACCCGAUGCCCUUUACAUCCGGACAUUACGGCUUUACAAUUCCAACACAUUCCGAGGUAUGCGAGCCAAAAUCCCGAACCUCAAGACAACAUUUGAUCCACAUACACCACCGAUAUGACGGCCUAAUUCGAUGCUCGUCCCUGGCGCCGAAACGUCAGAGCGGAGUCGUCUUCUGCCCCGCGCGGUACGGAGCACCUGCUGAUAUGAAUGCUCAUCUCGUUAAAUCGGUACGUCGCCAUCAUAGUACUAGCAUUGCCUACACCAGCCCAAAAGAGAUCUGGGACUGUAACAUUGGCAGUGGUAGCGACCUGAUAGAAUGUCGUUGCUGGUCGAGAGCAACCGUAGCAUCGUUUUCUAGAGCAAACUUCAUGUUGCGUAGGAUACCGCAUGCAAACACGUUUACACCCACGGCUCGUUGGCCGGAAGUCCCGCCACUCUGUAGGUCCACUAUCAGCAGAUCACUUGGCUCCCGGUUGAAACCAGCGUACUCUCUAGCUUACACGUCUGAGUACUACCCACCCCGCUUAGCUACCUUCGCUUGUACUGCCACUUCAUCGAAGGCCACCACCUCCCAACAUCCCCCCCGAUUGCUUGGCCCCCGAGCAUCUAGGAUGUCUGACGAAGACACGUUCUCGACGGGCGUUACUUUAAAUUUUGUAGGUCAUAUAAGCGGAAAUUUUGAGGAGCCUUAUAACUCAUCUUUGUGCUACAGAGCGCUUACUUCCGGCGCGGGUCUAGGUCCAAAAUACCUGAAUUUACCGACCUGGACAGGAGCUGGGCUCACGCGCUUCGUCUCAAAUGAACGGUCGGCGGAGAAUGCGGAAAAUUCUGAAGACAACUUCCACCGUCGAGACGGUGAACGAACUGUGCUGUUCCAGUUAGAAUCAUCUGACCAUCGGUCACACGGUCCAGAAAUUAGAUCCCCAGUUGUCCUGUGUACAGAUCCAUCUCAGAUAAGUUCACGGUCUCAUUAUUUUAUCCUGAUUUUAACAACCAUUUGCAGAAAUAGGAUGCACCUAGCAAACACGCGAUGCCCGCAGGUCGGUCUAUCAAUUGCUAUCUCAGUGCGGCCUAAGAUUCCGGAGCGGAAGGAUGAUUUGAGAUAUCUGAUUACCCACUGUUGGCCAGCUACCAGGCCUUGCAUCUCCAAAGGGGGUUGCCCAUACUUCGUGCGGAAUCGAAAGUUAUGUCCACUGACGGCGCAUACGACAAAACGCUUCCGUGUGUUACUUAUACACAGGUCCAACGCCGGGUCUCUAAACAGGUGCCGCUCGUUCCAGAGAAGAUACGAAGCGGAACAACUAUGUAUAAACUUUGGAUUAGUAGAAGAGCUCUCUACUUAUUAUCUGAGAUCUCAGGAUUUGCCAUUCACUAUUCAUGACCCCAGUAGUAGUCGGAGUGCAUUCCCAAAGUUCAUAUGCUCCAGUAAUCGUGUUGAUUUCGGUUCUCAGCCGAACAUUCAAGAUGGCGGGUUUCCCAAUACUCAUUAUCACGAAUACCGCAGGUGGGCGAAGCAAGUUCGAUUUGGACUUACUUGGGGUGGUGAUAAUUCUGGAGCAGGUCUGCUCAGAGAGACCCCCAGAGCCAAAACAAUUCCCGCGGAUGUGUACAGGGAGUCCAUGGUGCCGACAGACUAUCAUCCCUUGAUUCGCUUACGAACAACGCUCACUAAGUCACCAUCAGACGGACGCGUAUCAGGUCACAAUGGCCGGGAUAAGAAUACGGAUAGGUUGCCCUUCGAGCUAUGUCAGAGAGUCAGUCCGGAUCGCUUUGAUGAUGCCCGACGGUUGGGCGGAACGCGACCUCUUAGCUUAGUACAGCCGGCAAAACACCCGGGGACGCUUGGCCCGGUUGACAAAACGACAAGCGGGUCAGAUCGGUCAAUAGGGCCUUGGGUAUUAGUCUCUGGUUCUCACACAGUUCGCAUUAGGCGAACGCACUCUAGAUAUGUCAAUGCUUACAAGCUACCUCAGUGUUUUCUCGUGUGGGGCUCCGGAGCAUAUCAACAGGUCUCUUGUCGUAGCCGCAACCUUACUCCUUAUGCGCAGUAUAGCGACCCCACCUUGGAUGUUGGGGAGUCUAUGCAUACUCACGAAUGGGUAAUCUCAGGGGAAGUUCACCAGAAGUUAAAGUGGGGUUGUGAGGGACUCAACUGUAGGUCUUGUGAGGACCUAAAAUAUAACCUGUCAUGCAUGGCAUUGCUGGGGUCGGCUGGACACAACAGUAAAACUGUAUCCACUCGCGGAGACAGGCCUAAAAGUAUUGCCUGGCCUUCUACACCUCGAGGUAUGACGGCAUGGCAAAAUCACACUAUGUCAGGCGACCUGGGCGCGGGGCCUUUCAUUCGGUCACCCCACCCCCCCGUAGCCCGCUUGAACAUCCCAACCACCAGAUGGGACCAGGGGCGUCAACCUUCUCCCGCUUGGCUUAAGACGAGCCGCUCUGCUUCUUCUUUCCCGGGAUUUGCUUACAAUUUUAGGGUACCAUGCUCUAAGGCUUUGGAGUUAAGACCUUUCCGCCACCCCUUACGUCAUGUACGAGGUGAGUGCCAUGUCAAUGGUCCUAAACAUAUUUAUCACCGCAAGUACCACCGUUUAUCAAUGCAUUUGAUUAUAUCAAAGGGAGUGCAAAGAACUGCGGUUGUUAAAUUUCAGAAUUCUCUGAGUCGCCUUGACUCCGUUCUUAUCCUAAGGAGGAAGUCGAUAUCACAAAUCUCUAUGAUAACGGCGGAGUAUAUAGUUGGACCGCAUAUAACAGGCCCAGCGUACGCUACGCGGUUGUCGAUCUAUCUCCAUCCCACCGAUCCAGAUCGUGAAAGGGUUGAACCUGAAUGCAGGUGGCGCACUGUAUGGGCACAACCCCGAUUCAAGGCAAUUCUAUACGAUACUAAUCUUUCCGCCACUGUCUUCUCGUCAGCGCUGAUGGCGCCAACUAUAACGGUAAACAUCCUUACUCUAAUGUUCAGGUUGUUGUUUCGCGGGGAGGCCAGAUCUCGACUCCAGCCUUCUUGCUCCCUACGGAGAGAUGCCGAAUACUCCCGUAACGGACUUUGGAGGCAGGUAAUUCCAGAGUGUGUGACGAUCGUGCAAGCUCAUGGGCGUAGGGGUCAGAAAACCCCGGAUGGCAUAAAACCAAUACUCGAGAGGCCCAGGGCGAACUUGAUUUGCGGCUUAGCUUGGGAGCCGAAACGCGCCAUUGAAAGGUCAAACUAUCGCGAACUUCGGACGAGUUAUCCGCUUAAACUUGGUCUCCUUAAUGUCUUUAGGACCAGUCGUGACAUCCAUCAGCACGUCACCGUUGAACUUAUCUGUACAGAAUGGUCACAACCAUUCAAGGUACACAAUCAAACUGCUACAUUAAGCGUUUCAACGUUAUGGUAUACAAAGGCCGGUCUUCAAGACUCCACGAACGGAAAUGAAAACCACGCUAAGAGAGGCCUGUUAGUCUGCAUCUGCAAUCUCAAGAGCUGGAGCGAGUUAUGCGGGGCCACUAGCCCGACAUUAACCGUUAUCUGCAGAACGCGCGUACUUUCAUCGUGCCCUCCGCGGGGAGUGUCGUCCGGCUUAGUACAGCCUUCCGCAUCCCCGAAGCGGACAAGAUCAGAAAAGGUUCGGACACCAGAGAUUGCAUUUCAUGUGCUGCAGAAAACGAAAUGCUGGGGCGUACUGGCGCCUUGGGAGCUCUACGAAACUCAUGUGAACUAUUGUCCGCCCGCUCUAAAGUGUAAUGAGACGGCAAGGGUUCGGGCAGUUCGGUCUCACUACCCCCCUAGGGCAACCGCCCUUCCGGCCACCCAUAAUAGCUGCUUAUCACAGAUAAAUCACGUUCCGCGGUUGAUAGGUCUAGAAAAUGUUUACAGUGAUACGCGCACACUGAUAUCGUCGCCACUGAUCGGUGAUAACGCGCCGGGCUUACGUCCUCCCGCAUCCGAGAGUACACUUACUUCGCGCGUACUGAUCCGACGAACUUUCCCUGUCCGCAAACCAAAGGCACCACGUGCCCACUUUCUAGAUGACCGCAUCAGCACGCGCUAUGGAAUAACCGGGAUUACUCGCAACUUAGACACCAACUCGGUCCUAUCAUUAACAUUCAUUUUCGGAAGAUCCGACGGUGUGUUCCGGCUUGUCGCGACCGCCCGAGCUGCGUCAGCGCAAACGGGUAUGGAGCUCGGACAAGGAAAUGUGUGGUGUGCUCGAAAUCGCUACCAGCUAAGUUGGGCUCGCUGUGCAAUCGACGUUCCCCCUUCUAGGCGGUUGCUAGUCUAUGGCGAUACGGGACCGUUAAAGGCGAACUCUAACGGUGCGACUUGCACUGAACGUGCAGAGUUUGCAUGCCAUAGCAGUUUAUCAACUCAACAGAAGCAUCGCGAGGGGAUACUAGAGUCUGACAAACUCACGCACAUUUGUGCGCGGUCAAGCCCAUCAAGCCACGGUGCGCGCCGGCAGCUCGGUCUCGGCCUAAUACUGAUUAUGAACCUCUCGAAUGAGACACAUGAAUCAGCCACAGAGGCAAUUUCCCAGCUUCUCAUCGACAUAGGCCUGGUGCCCCAAUCCGUGAGGGGCUACGAUCAUGAAUCGUAUAGGGCACGUUUAACGUUGCGAACGCAACGGCUCCGAUAUAGAGUCUGCUAUAGAACACAUCCGCACACGACCCAUUUUAAGGAGCUGGCAUUGGCCACAAGGGCAAUCCCGCAGGGCACUGUAGAUUACUCGGGCAGGUGUAUCAGUCUUGAAGCGCAACAAAAUAGUUGUAGGCUGGUCGAAGACAAGCGCCGGAAGUGGAGUCACAGGACGCCCGAUUGUUUAAAACCUGAGCAAAUUGUGUCGUUCGGUGUAUUCGGGCUUUUAGACUGGAGUAUUUUCGACCGUGGCACAGCAGCAAGGGGAAUAUGUGGACAGGGUAGCGCACGUGGUUUGCUAAUCUAUUUUUUCGGCGAGUUGUUUCCGUGCAGGAUAGAGUCGUCCCAGCUUACCGUGCAGCGGACGCCCGGAGGGAGGAAGCCUACAAGAGUCUCCCUUGCAAAGAAAACGAUCGCGAAUUCCUCGCAUCGAGCAGAAUGUAAAAAAUUUGAGACAUCUAUUGGCAUAGUAGCAUUCGCAGACGGUUUGCGGGUGUAUAAUGAGCCUUCGUGCCCUAAGGUAGUCAGAUGGCAAAUGGGGAAGGCCUUACGGCGAUUCUCUACGGCUAUAAGGCGGGCAGACGGCCAUCACCUCAUAGUCCGAGCUCGGAUUGAGUUCGAUCAUGAUGGCAUGCGUCUAUUCACCGACGUAUGCCUCAAGGGCCAUGAGGUUUUUCGCGGCCUGCGACCACCAAAAAACUACGGCCCAAUAACUGGGGCCAACGCGUGCGGUAAAGAGUAUGUCGGCGGACAGAGGAGCUUGCACAAUCCCCUACUGGCUGAAACCGGACCUUAUCCUUCCAUAACACCCUUUACGGAUACACAGUCCUGGGGAUUGCCCACAGUUCUUCCUUGGGUUGCGUCCGUUCAACCUCCUUGUGCACGAAUACUUGCGGCUUUCGUAUCUGACGCCAAAUUCGGUCGUGCUGUGACCCCCACCGCGAGCACCACUGGCGCUGACACCAAAGGGUUACGGGAUCUUACAAUACGUCUAGGAUCUGUGAGUCAAGACAACUACACCGAUUUAGGCCGCAAGAAUCAGGAUUACGACAUUUGGCGUCCUAGAGGGAAGGGAGCAUAUGCGGAAAGCCGUGAGCUAUGCCGCUGCAUGCAAGAGGAUGGUUUUUAUUGGACAAGAUGUGUCGCGUGCGUUAGAUACAGGGCCAACCAGUCGCUAGCUAAUGAUCCGGGCCUGUCCCACGUCCCUAUGAUAAUCCACGCCAUUGCCCAGGGUUUUAGCUAUCCAAGCUCAGUAUAUACUCGUAGCGGUUGUACGACCCGAAACACCCUAGACGAGUGUCACCACCUUGGAAGUUACUUCCCGUCAUUGACAUCUAUCGGCCCAUUUCCGUCGGGCCGUCUUAGCCAAGAGACUGUACGGCACUUGACAUCACAGGCUCGCACGAUCAGGGCUUGCCCAAGGAAGCUAGCUCGGAGCGAAAUGUCUACCAAUAAAUGGGCCCUGAAUCAUGAGUCUUGGCUGUCACAUGCCCCCGCCUUGUCUCGUUCAACCACGCAUCGCGGGGCAGUGUCCCGUGGCCAAAACGGCGCACCAUGUGAGUAUAUCCGAUGGACUUGCCUUAGUCGCCUCGGCUCCAGGAACAAAAACGCCCGCGAUCGGCCGGGACGCCCUGAAAGGAUCCCUUUAGGAUGCAAACGACAAGCUGGAAAUAUACAUUGCUGUGAAGGUUAUAGCGUGAAUCGUGAGGGGUAUCUUGCACUAGGUGACGCCAUAAUAGGCUCCCGGAGCAGAGUCGAUGAGCUUCGUUUCAAUGGUGAGUACCCGAUACCUGGUGCUAUGACAGACCGAUUUUCGUCUAGCAAGACGCUACGCAAAGAUACGCUGGGCAUUGGAAAAAGCCGUCGGAGUUCUGGCGCCCGCGCCACGUAUGCGUCCUGGCGUCCUUCACAGCGUAUGUAA\"\n"
      ],
      "metadata": {
        "id": "3WFSThNB5-mF"
      },
      "execution_count": null,
      "outputs": []
    },
    {
      "cell_type": "code",
      "source": [
        "s=\"\"\n",
        "for i in range(0,len(rna_seq)-3,3):\n",
        "    s=s+codon_dict[rna_seq[i:i+3]]\n",
        "\n",
        "print(s)"
      ],
      "metadata": {
        "colab": {
          "base_uri": "https://localhost:8080/"
        },
        "id": "Mvenih7P5_W1",
        "outputId": "aa6fd45b-f4ba-4d27-cd41-89bea4eec8f1"
      },
      "execution_count": null,
      "outputs": [
        {
          "output_type": "stream",
          "name": "stdout",
          "text": [
            "MSKDFWIWHRNFQLVRNTHRDHRFILDGDTPPLPACEKQFIHSPPLRARADRVRISSSQIVVLDLSKIGGPTLVLGAPMGRELLKSHDTNVYEVADIRNPQTQMRLLSKMPMRSGGLTGSTCIHILSLYITGHHASRRSWGTERIRPESSKTRRRLGSIWSPPNRLAWTTLRAAVANIYTPDRLSGPPTVRPDQLADYVKEVPHGGSIDRPAVVPSFASLAGKVAVGDQQLRSDPMPPKEMIGHLGYKTVQDVSNGDTPIRRSQPSVGMHMVQVHRSITVCRDELNMFPIHSLLGSAWAFDILLKQLYLPSAHLPQHALPGMTGNTRRNHPRILKLYLQTSVKAKLVALIASTLATWLCVKSRGSRSVIRKTKNVDEIVWVSLLRRRQFIANLRSIRQSHLLFCIALQRVPSDQSVTSNTSVSRSASRCDWEYDFVVEARLARFLASCTHANFDNSRLRRDEYVSTVYSNLLKPASYWQNETLLTLQSRQYKARQFAPPSACYKLVYISAYQSLTDNNGGSAHLGSFGRIQTSILKMKSVGTQRLGEAGCFQDPMPFTSGHYGFTIPTHSEVCEPKSRTSRQHLIHIHHRYDGLIRCSSLAPKRQSGVVFCPARYGAPADMNAHLVKSVRRHHSTSIAYTSPKEIWDCNIGSGSDLIECRCWSRATVASFSRANFMLRRIPHANTFTPTARWPEVPPLCRSTISRSLGSRLKPAYSLAYTSEYYPPRLATFACTATSSKATTSQHPPRLLGPRASRMSDEDTFSTGVTLNFVGHISGNFEEPYNSSLCYRALTSGAGLGPKYLNLPTWTGAGLTRFVSNERSAENAENSEDNFHRRDGERTVLFQLESSDHRSHGPEIRSPVVLCTDPSQISSRSHYFILILTTICRNRMHLANTRCPQVGLSIAISVRPKIPERKDDLRYLITHCWPATRPCISKGGCPYFVRNRKLCPLTAHTTKRFRVLLIHRSNAGSLNRCRSFQRRYEAEQLCINFGLVEELSTYYLRSQDLPFTIHDPSSSRSAFPKFICSSNRVDFGSQPNIQDGGFPNTHYHEYRRWAKQVRFGLTWGGDNSGAGLLRETPRAKTIPADVYRESMVPTDYHPLIRLRTTLTKSPSDGRVSGHNGRDKNTDRLPFELCQRVSPDRFDDARRLGGTRPLSLVQPAKHPGTLGPVDKTTSGSDRSIGPWVLVSGSHTVRIRRTHSRYVNAYKLPQCFLVWGSGAYQQVSCRSRNLTPYAQYSDPTLDVGESMHTHEWVISGEVHQKLKWGCEGLNCRSCEDLKYNLSCMALLGSAGHNSKTVSTRGDRPKSIAWPSTPRGMTAWQNHTMSGDLGAGPFIRSPHPPVARLNIPTTRWDQGRQPSPAWLKTSRSASSFPGFAYNFRVPCSKALELRPFRHPLRHVRGECHVNGPKHIYHRKYHRLSMHLIISKGVQRTAVVKFQNSLSRLDSVLILRRKSISQISMITAEYIVGPHITGPAYATRLSIYLHPTDPDRERVEPECRWRTVWAQPRFKAILYDTNLSATVFSSALMAPTITVNILTLMFRLLFRGEARSRLQPSCSLRRDAEYSRNGLWRQVIPECVTIVQAHGRRGQKTPDGIKPILERPRANLICGLAWEPKRAIERSNYRELRTSYPLKLGLLNVFRTSRDIHQHVTVELICTEWSQPFKVHNQTATLSVSTLWYTKAGLQDSTNGNENHAKRGLLVCICNLKSWSELCGATSPTLTVICRTRVLSSCPPRGVSSGLVQPSASPKRTRSEKVRTPEIAFHVLQKTKCWGVLAPWELYETHVNYCPPALKCNETARVRAVRSHYPPRATALPATHNSCLSQINHVPRLIGLENVYSDTRTLISSPLIGDNAPGLRPPASESTLTSRVLIRRTFPVRKPKAPRAHFLDDRISTRYGITGITRNLDTNSVLSLTFIFGRSDGVFRLVATARAASAQTGMELGQGNVWCARNRYQLSWARCAIDVPPSRRLLVYGDTGPLKANSNGATCTERAEFACHSSLSTQQKHREGILESDKLTHICARSSPSSHGARRQLGLGLILIMNLSNETHESATEAISQLLIDIGLVPQSVRGYDHESYRARLTLRTQRLRYRVCYRTHPHTTHFKELALATRAIPQGTVDYSGRCISLEAQQNSCRLVEDKRRKWSHRTPDCLKPEQIVSFGVFGLLDWSIFDRGTAARGICGQGSARGLLIYFFGELFPCRIESSQLTVQRTPGGRKPTRVSLAKKTIANSSHRAECKKFETSIGIVAFADGLRVYNEPSCPKVVRWQMGKALRRFSTAIRRADGHHLIVRARIEFDHDGMRLFTDVCLKGHEVFRGLRPPKNYGPITGANACGKEYVGGQRSLHNPLLAETGPYPSITPFTDTQSWGLPTVLPWVASVQPPCARILAAFVSDAKFGRAVTPTASTTGADTKGLRDLTIRLGSVSQDNYTDLGRKNQDYDIWRPRGKGAYAESRELCRCMQEDGFYWTRCVACVRYRANQSLANDPGLSHVPMIIHAIAQGFSYPSSVYTRSGCTTRNTLDECHHLGSYFPSLTSIGPFPSGRLSQETVRHLTSQARTIRACPRKLARSEMSTNKWALNHESWLSHAPALSRSTTHRGAVSRGQNGAPCEYIRWTCLSRLGSRNKNARDRPGRPERIPLGCKRQAGNIHCCEGYSVNREGYLALGDAIIGSRSRVDELRFNGEYPIPGAMTDRFSSSKTLRKDTLGIGKSRRSSGARATYASWRPSQRM\n"
          ]
        }
      ]
    },
    {
      "cell_type": "markdown",
      "source": [
        "# 9-Finding a Motif in DNA"
      ],
      "metadata": {
        "id": "zex5sUTp6GhX"
      }
    },
    {
      "cell_type": "code",
      "source": [
        "dna=\"GATATATGCATATACTT\"\n",
        "motif=\"ATAT\""
      ],
      "metadata": {
        "id": "LrNcyZZ56KhL"
      },
      "execution_count": null,
      "outputs": []
    },
    {
      "cell_type": "code",
      "source": [
        "result=\"\"\n",
        "for i in range(0,len(dna)-len(motif)):\n",
        "  if dna[i:i+len(motif)]==motif:\n",
        "    result=result+\" \"+str(i+1)\n",
        "\n",
        "print(result)"
      ],
      "metadata": {
        "colab": {
          "base_uri": "https://localhost:8080/"
        },
        "id": "QRBy0kI36fJ_",
        "outputId": "44c5970c-3b14-49c9-ec17-4c6f1c1974ad"
      },
      "execution_count": null,
      "outputs": [
        {
          "output_type": "stream",
          "name": "stdout",
          "text": [
            " 2 4 10\n"
          ]
        }
      ]
    },
    {
      "cell_type": "markdown",
      "source": [
        "# 10-Consensus and Profile"
      ],
      "metadata": {
        "id": "hMpA2tZS7nNH"
      }
    },
    {
      "cell_type": "code",
      "source": [
        "from google.colab import files\n",
        "!pip install numpy\n",
        "import numpy as np"
      ],
      "metadata": {
        "colab": {
          "base_uri": "https://localhost:8080/"
        },
        "id": "lanGbQgY75Rw",
        "outputId": "8f620153-6842-4087-8242-6b56f1b45d3c"
      },
      "execution_count": null,
      "outputs": [
        {
          "output_type": "stream",
          "name": "stdout",
          "text": [
            "Requirement already satisfied: numpy in /usr/local/lib/python3.10/dist-packages (1.26.4)\n"
          ]
        }
      ]
    },
    {
      "cell_type": "code",
      "source": [
        "def is_valid(dna):\n",
        "    valid=set(\"ATCG\")\n",
        "    for nuc in dna:\n",
        "        if nuc not in valid:\n",
        "            return False\n",
        "    return True\n",
        "\n",
        "def profile_mat(fasta_file):\n",
        "    # Lecture du fichier FASTA\n",
        "    with open(fasta_file, \"r\") as file:\n",
        "        lines = file.readlines()\n",
        "\n",
        "    # Initialisation des variables\n",
        "    dna_sequences = []\n",
        "    l = 0\n",
        "\n",
        "    # Extraction des séquences d'ADN du fichier FASTA\n",
        "    for line in lines:\n",
        "        if line.startswith('>')and is_valid(lines[l+1].strip()):\n",
        "            # Ajout de la séquence actuelle à la liste\n",
        "            dna_sequences.append(lines[l + 1].strip())\n",
        "        l += 1\n",
        "\n",
        "    # Construction de la matrice profil\n",
        "    mat = np.array([list(seq) for seq in dna_sequences], dtype=str)\n",
        "    profile_mat = np.zeros((4, len(dna_sequences[0])))\n",
        "\n",
        "    for i, base in enumerate(\"ACGT\"):\n",
        "        profile_mat[i, :] = np.sum(mat == base, axis=0)\n",
        "\n",
        "    # Construction de la chaîne d'ADN consensus\n",
        "    bases = \"ACGT\"\n",
        "    index = np.argmax(profile_mat, axis=0)\n",
        "    consensus = ''.join(bases[i] for i in index)\n",
        "\n",
        "    return consensus, profile_mat"
      ],
      "metadata": {
        "id": "_tRtcOrd7owb"
      },
      "execution_count": null,
      "outputs": []
    },
    {
      "cell_type": "markdown",
      "source": [
        " # 11-Mortal Fibonacci Rabbits"
      ],
      "metadata": {
        "id": "WMf6IHiQ_87f"
      }
    },
    {
      "cell_type": "code",
      "source": [
        "def rabbit_pairs(n: int, m: int):\n",
        "  bunnies = [1, 1]\n",
        "  months = 2\n",
        "  count = []\n",
        "  while months < n:\n",
        "      if months < m:\n",
        "          bunnies.append(bunnies[-2] + bunnies[-1])\n",
        "      elif months == m or count == m + 1:\n",
        "          bunnies.append(bunnies[-2] + bunnies[-1] - 1)\n",
        "      else:\n",
        "          bunnies.append(bunnies[-2] + bunnies[-1] - bunnies[-(\n",
        "              m + 1)])\n",
        "      months += 1\n",
        "  return bunnies[-1]"
      ],
      "metadata": {
        "id": "kTXDkcj0__9o"
      },
      "execution_count": null,
      "outputs": []
    },
    {
      "cell_type": "code",
      "source": [
        "print(rabbit_pairs(80,16))"
      ],
      "metadata": {
        "colab": {
          "base_uri": "https://localhost:8080/"
        },
        "id": "hjKa9EIAADze",
        "outputId": "1abab81b-a550-4f33-c3f1-85d600218172"
      },
      "execution_count": null,
      "outputs": [
        {
          "output_type": "stream",
          "name": "stdout",
          "text": [
            "23105735806966033\n"
          ]
        }
      ]
    },
    {
      "cell_type": "markdown",
      "source": [
        "# 12-Overlap Graphs"
      ],
      "metadata": {
        "id": "_M-TLrh6DFV3"
      }
    },
    {
      "cell_type": "code",
      "source": [
        "file=\"omg.txt\"\n",
        "seqs=[]\n",
        "results=\"\"\n",
        "for seq_record in SeqIO.parse(file, \"fasta\"):\n",
        "  seqs.append((seq_record.seq,seq_record.id))\n",
        "for i in range(0,len(seqs)):\n",
        "  for j in range(0,len(seqs)):\n",
        "    if seqs[i][0][len(seqs[i][0])-3:len(seqs[i][0])]==seqs[j][0][:3] and seqs[i][0]!=seqs[j][0]:\n",
        "      results+=f'{seqs[i][1]} {seqs[j][1]}\\n'\n",
        "\n",
        "print(results)\n",
        "\n"
      ],
      "metadata": {
        "id": "VcIJKkawDHiw",
        "colab": {
          "base_uri": "https://localhost:8080/",
          "height": 219
        },
        "outputId": "c60147db-22c2-4bcc-9db2-95514d8d8eb6"
      },
      "execution_count": null,
      "outputs": [
        {
          "output_type": "error",
          "ename": "NameError",
          "evalue": "name 'SeqIO' is not defined",
          "traceback": [
            "\u001b[0;31m---------------------------------------------------------------------------\u001b[0m",
            "\u001b[0;31mNameError\u001b[0m                                 Traceback (most recent call last)",
            "\u001b[0;32m<ipython-input-1-12cb6ebd8efe>\u001b[0m in \u001b[0;36m<cell line: 0>\u001b[0;34m()\u001b[0m\n\u001b[1;32m      2\u001b[0m \u001b[0mseqs\u001b[0m\u001b[0;34m=\u001b[0m\u001b[0;34m[\u001b[0m\u001b[0;34m]\u001b[0m\u001b[0;34m\u001b[0m\u001b[0;34m\u001b[0m\u001b[0m\n\u001b[1;32m      3\u001b[0m \u001b[0mresults\u001b[0m\u001b[0;34m=\u001b[0m\u001b[0;34m\"\"\u001b[0m\u001b[0;34m\u001b[0m\u001b[0;34m\u001b[0m\u001b[0m\n\u001b[0;32m----> 4\u001b[0;31m \u001b[0;32mfor\u001b[0m \u001b[0mseq_record\u001b[0m \u001b[0;32min\u001b[0m \u001b[0mSeqIO\u001b[0m\u001b[0;34m.\u001b[0m\u001b[0mparse\u001b[0m\u001b[0;34m(\u001b[0m\u001b[0mfile\u001b[0m\u001b[0;34m,\u001b[0m \u001b[0;34m\"fasta\"\u001b[0m\u001b[0;34m)\u001b[0m\u001b[0;34m:\u001b[0m\u001b[0;34m\u001b[0m\u001b[0;34m\u001b[0m\u001b[0m\n\u001b[0m\u001b[1;32m      5\u001b[0m   \u001b[0mseqs\u001b[0m\u001b[0;34m.\u001b[0m\u001b[0mappend\u001b[0m\u001b[0;34m(\u001b[0m\u001b[0;34m(\u001b[0m\u001b[0mseq_record\u001b[0m\u001b[0;34m.\u001b[0m\u001b[0mseq\u001b[0m\u001b[0;34m,\u001b[0m\u001b[0mseq_record\u001b[0m\u001b[0;34m.\u001b[0m\u001b[0mid\u001b[0m\u001b[0;34m)\u001b[0m\u001b[0;34m)\u001b[0m\u001b[0;34m\u001b[0m\u001b[0;34m\u001b[0m\u001b[0m\n\u001b[1;32m      6\u001b[0m \u001b[0;32mfor\u001b[0m \u001b[0mi\u001b[0m \u001b[0;32min\u001b[0m \u001b[0mrange\u001b[0m\u001b[0;34m(\u001b[0m\u001b[0;36m0\u001b[0m\u001b[0;34m,\u001b[0m\u001b[0mlen\u001b[0m\u001b[0;34m(\u001b[0m\u001b[0mseqs\u001b[0m\u001b[0;34m)\u001b[0m\u001b[0;34m)\u001b[0m\u001b[0;34m:\u001b[0m\u001b[0;34m\u001b[0m\u001b[0;34m\u001b[0m\u001b[0m\n",
            "\u001b[0;31mNameError\u001b[0m: name 'SeqIO' is not defined"
          ]
        }
      ]
    }
  ]
}